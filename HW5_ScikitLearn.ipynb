{
  "nbformat": 4,
  "nbformat_minor": 0,
  "metadata": {
    "kernelspec": {
      "display_name": "Python 3",
      "language": "python",
      "name": "python3"
    },
    "language_info": {
      "codemirror_mode": {
        "name": "ipython",
        "version": 3
      },
      "file_extension": ".py",
      "mimetype": "text/x-python",
      "name": "python",
      "nbconvert_exporter": "python",
      "pygments_lexer": "ipython3",
      "version": "3.7.3"
    },
    "colab": {
      "name": "HW5-9806894.ipynb",
      "provenance": [],
      "include_colab_link": true
    }
  },
  "cells": [
    {
      "cell_type": "markdown",
      "metadata": {
        "id": "view-in-github",
        "colab_type": "text"
      },
      "source": [
        "<a href=\"https://colab.research.google.com/github/Daeijavad/Machine_Learning_HW/blob/main/HW5_ScikitLearn.ipynb\" target=\"_parent\"><img src=\"https://colab.research.google.com/assets/colab-badge.svg\" alt=\"Open In Colab\"/></a>"
      ]
    },
    {
      "cell_type": "markdown",
      "metadata": {
        "id": "p4unaXbpVXn3"
      },
      "source": [
        "# Question 1"
      ]
    },
    {
      "cell_type": "code",
      "metadata": {
        "id": "iAAAfC0cVXn6"
      },
      "source": [
        "import pandas as pd\n",
        "import numpy as np\n",
        "import matplotlib.pyplot as plt\n",
        "from sklearn.linear_model import LogisticRegression\n",
        "from sklearn.model_selection import KFold\n",
        "from sklearn.svm import LinearSVC\n",
        "from sklearn.metrics import classification_report\n",
        "from sklearn.metrics import confusion_matrix\n",
        "%matplotlib inline"
      ],
      "execution_count": null,
      "outputs": []
    },
    {
      "cell_type": "code",
      "metadata": {
        "id": "5t9PMXs8VXn9",
        "outputId": "8c27c5f8-53be-4e19-cafc-421d565b7b03"
      },
      "source": [
        "data = pd.read_csv(\"tak5data.csv\",index_col = \"order\")\n",
        "\n",
        "t = data[\"pass\"]\n",
        "X = data.drop([\"pass\"],axis =1)\n",
        "X2 = data.loc[:,['midterm','finalterm']]\n",
        "data.head()"
      ],
      "execution_count": null,
      "outputs": [
        {
          "data": {
            "text/html": [
              "<div>\n",
              "<style scoped>\n",
              "    .dataframe tbody tr th:only-of-type {\n",
              "        vertical-align: middle;\n",
              "    }\n",
              "\n",
              "    .dataframe tbody tr th {\n",
              "        vertical-align: top;\n",
              "    }\n",
              "\n",
              "    .dataframe thead th {\n",
              "        text-align: right;\n",
              "    }\n",
              "</style>\n",
              "<table border=\"1\" class=\"dataframe\">\n",
              "  <thead>\n",
              "    <tr style=\"text-align: right;\">\n",
              "      <th></th>\n",
              "      <th>midterm</th>\n",
              "      <th>finalterm</th>\n",
              "      <th>tak1</th>\n",
              "      <th>tak2</th>\n",
              "      <th>research</th>\n",
              "      <th>project</th>\n",
              "      <th>pass</th>\n",
              "    </tr>\n",
              "    <tr>\n",
              "      <th>order</th>\n",
              "      <th></th>\n",
              "      <th></th>\n",
              "      <th></th>\n",
              "      <th></th>\n",
              "      <th></th>\n",
              "      <th></th>\n",
              "      <th></th>\n",
              "    </tr>\n",
              "  </thead>\n",
              "  <tbody>\n",
              "    <tr>\n",
              "      <th>1</th>\n",
              "      <td>20</td>\n",
              "      <td>20</td>\n",
              "      <td>20</td>\n",
              "      <td>20</td>\n",
              "      <td>20</td>\n",
              "      <td>20</td>\n",
              "      <td>1</td>\n",
              "    </tr>\n",
              "    <tr>\n",
              "      <th>2</th>\n",
              "      <td>15</td>\n",
              "      <td>12</td>\n",
              "      <td>15</td>\n",
              "      <td>20</td>\n",
              "      <td>17</td>\n",
              "      <td>16</td>\n",
              "      <td>1</td>\n",
              "    </tr>\n",
              "    <tr>\n",
              "      <th>3</th>\n",
              "      <td>19</td>\n",
              "      <td>18</td>\n",
              "      <td>20</td>\n",
              "      <td>17</td>\n",
              "      <td>18</td>\n",
              "      <td>18</td>\n",
              "      <td>1</td>\n",
              "    </tr>\n",
              "    <tr>\n",
              "      <th>4</th>\n",
              "      <td>9</td>\n",
              "      <td>10</td>\n",
              "      <td>13</td>\n",
              "      <td>17</td>\n",
              "      <td>18</td>\n",
              "      <td>19</td>\n",
              "      <td>1</td>\n",
              "    </tr>\n",
              "    <tr>\n",
              "      <th>5</th>\n",
              "      <td>17</td>\n",
              "      <td>16</td>\n",
              "      <td>17</td>\n",
              "      <td>15</td>\n",
              "      <td>16</td>\n",
              "      <td>14</td>\n",
              "      <td>1</td>\n",
              "    </tr>\n",
              "  </tbody>\n",
              "</table>\n",
              "</div>"
            ],
            "text/plain": [
              "       midterm  finalterm  tak1  tak2  research  project  pass\n",
              "order                                                         \n",
              "1           20         20    20    20        20       20     1\n",
              "2           15         12    15    20        17       16     1\n",
              "3           19         18    20    17        18       18     1\n",
              "4            9         10    13    17        18       19     1\n",
              "5           17         16    17    15        16       14     1"
            ]
          },
          "execution_count": 2,
          "metadata": {},
          "output_type": "execute_result"
        }
      ]
    },
    {
      "cell_type": "markdown",
      "metadata": {
        "id": "A6THaDJrVXn-"
      },
      "source": [
        "# Question 2"
      ]
    },
    {
      "cell_type": "code",
      "metadata": {
        "id": "TFpNHAoVVXn_",
        "outputId": "8ad5c755-f2fa-4a29-c18c-c81e56c938e1"
      },
      "source": [
        "cc = ['blue' if x==-1 else 'red' for x in t]\n",
        "plt.scatter(X2['midterm'], X2['finalterm'], c= cc)"
      ],
      "execution_count": null,
      "outputs": [
        {
          "data": {
            "text/plain": [
              "<matplotlib.collections.PathCollection at 0x15d59713080>"
            ]
          },
          "execution_count": 3,
          "metadata": {},
          "output_type": "execute_result"
        },
        {
          "data": {
            "image/png": "[encoded data removed]",
            "text/plain": [
              "<Figure size 432x288 with 1 Axes>"
            ]
          },
          "metadata": {
            "needs_background": "light"
          },
          "output_type": "display_data"
        }
      ]
    },
    {
      "cell_type": "markdown",
      "metadata": {
        "id": "6UH3OJAzVXn_"
      },
      "source": [
        "# Questoin 3\n",
        "## way one for X:"
      ]
    },
    {
      "cell_type": "code",
      "metadata": {
        "id": "KV_Gz0amVXoA",
        "outputId": "50b3a10b-8236-448d-de71-d8c3896829ec"
      },
      "source": [
        "clf = LogisticRegression(max_iter = 1000).fit(X, t)\n",
        "\n",
        "X_predict_logreg = clf.predict(X)\n",
        "\n",
        "print(\"t is:         \", t.values)\n",
        "print(\"prediction is:\", X_predict_logreg)\n",
        "print(\"The Acuraccy is:\", clf.score(X, t))"
      ],
      "execution_count": null,
      "outputs": [
        {
          "name": "stdout",
          "output_type": "stream",
          "text": [
            "t is:          [ 1  1  1  1  1  1  1  1  1  1 -1  1 -1 -1 -1  1 -1 -1 -1 -1]\n",
            "prediction is: [ 1  1  1  1  1  1  1  1  1  1 -1  1  1 -1 -1 -1 -1 -1 -1 -1]\n",
            "The Acuraccy is: 0.9\n"
          ]
        }
      ]
    },
    {
      "cell_type": "markdown",
      "metadata": {
        "id": "dVIqssl0VXoB"
      },
      "source": [
        "## way one for X2:"
      ]
    },
    {
      "cell_type": "code",
      "metadata": {
        "id": "U_OIMhJ6VXoB",
        "outputId": "153db3f1-cc9a-4d15-9ac3-27f9f95e7866"
      },
      "source": [
        "clf = LogisticRegression(max_iter = 1000).fit(X2, t)\n",
        "\n",
        "X2_predict_logreg = clf.predict(X2)\n",
        "\n",
        "print(\"t is:         \", t.values)\n",
        "print(\"prediction is:\", X2_predict_logreg)\n",
        "print(\"The Acuraccy is:\", clf.score(X2, t))"
      ],
      "execution_count": null,
      "outputs": [
        {
          "name": "stdout",
          "output_type": "stream",
          "text": [
            "t is:          [ 1  1  1  1  1  1  1  1  1  1 -1  1 -1 -1 -1  1 -1 -1 -1 -1]\n",
            "prediction is: [ 1  1  1 -1  1  1  1  1  1  1 -1  1  1 -1 -1 -1  1 -1 -1 -1]\n",
            "The Acuraccy is: 0.8\n"
          ]
        }
      ]
    },
    {
      "cell_type": "markdown",
      "metadata": {
        "id": "U0hO7bEJVXoC"
      },
      "source": [
        "## way two for X:"
      ]
    },
    {
      "cell_type": "code",
      "metadata": {
        "id": "kyY2-EY8VXoD",
        "outputId": "a072049b-e43f-4d46-a9e4-ff4f8950f6e4"
      },
      "source": [
        "kf = KFold(n_splits=20)\n",
        "predict = np.zeros(20, dtype = int)\n",
        "for train_index, test_index in kf.split(X):\n",
        "    X_train, X_test = X.iloc[train_index], X.iloc[test_index]\n",
        "    t_train, t_test = t.iloc[train_index], t.iloc[test_index]\n",
        "    clf = LogisticRegression(max_iter = 1000).fit(X_train, t_train)\n",
        "    predict[test_index] = clf.predict(X_test)\n",
        "    \n",
        "print(\"t is:         \", t.values)\n",
        "print(\"prediction is:\", predict)\n",
        "print(\"The Acuraccy is:\", sum(t.values == predict)/20)"
      ],
      "execution_count": null,
      "outputs": [
        {
          "name": "stdout",
          "output_type": "stream",
          "text": [
            "t is:          [ 1  1  1  1  1  1  1  1  1  1 -1  1 -1 -1 -1  1 -1 -1 -1 -1]\n",
            "prediction is: [ 1  1  1  1  1  1  1  1  1  1 -1  1  1  1 -1 -1  1  1  1 -1]\n",
            "The Acuraccy is: 0.7\n"
          ]
        }
      ]
    },
    {
      "cell_type": "markdown",
      "metadata": {
        "id": "1v2pG_uSVXoD"
      },
      "source": [
        "## way two for X2:"
      ]
    },
    {
      "cell_type": "code",
      "metadata": {
        "id": "S2acn1zfVXoE",
        "outputId": "e2f78b15-9e4a-47af-8522-7e2b72a7b920"
      },
      "source": [
        "kf = KFold(n_splits=20)\n",
        "predict = np.zeros(20, dtype = int)\n",
        "for train_index, test_index in kf.split(X):\n",
        "    X_train, X_test = X2.iloc[train_index], X2.iloc[test_index]\n",
        "    t_train, t_test = t.iloc[train_index], t.iloc[test_index]\n",
        "    clf = LogisticRegression(max_iter = 1000).fit(X_train, t_train)\n",
        "    predict[test_index] = clf.predict(X_test)\n",
        "    \n",
        "print(\"t is:         \", t.values)\n",
        "print(\"prediction is:\", predict)\n",
        "print(\"The Acuraccy is:\", sum(t.values == predict)/20)"
      ],
      "execution_count": null,
      "outputs": [
        {
          "name": "stdout",
          "output_type": "stream",
          "text": [
            "t is:          [ 1  1  1  1  1  1  1  1  1  1 -1  1 -1 -1 -1  1 -1 -1 -1 -1]\n",
            "prediction is: [ 1  1  1 -1  1  1  1  1  1  1 -1  1  1  1 -1 -1  1 -1 -1 -1]\n",
            "The Acuraccy is: 0.75\n"
          ]
        }
      ]
    },
    {
      "cell_type": "markdown",
      "metadata": {
        "id": "hTiYtIRdVXoE"
      },
      "source": [
        "# Question 4\n",
        "\n",
        "## way one for X:"
      ]
    },
    {
      "cell_type": "code",
      "metadata": {
        "scrolled": false,
        "id": "bfK0tLg2VXoE",
        "outputId": "8ef04c74-fdc5-4169-f1e7-fea51e316409"
      },
      "source": [
        "clf = LinearSVC(max_iter = 100000).fit(X, t)\n",
        "\n",
        "X_predict_SVM = clf.predict(X)\n",
        "\n",
        "print(\"t is:         \", t.values)\n",
        "print(\"prediction is:\", X_predict_SVM)\n",
        "print(\"The Acuraccy is:\", clf.score(X, t))"
      ],
      "execution_count": null,
      "outputs": [
        {
          "name": "stdout",
          "output_type": "stream",
          "text": [
            "t is:          [ 1  1  1  1  1  1  1  1  1  1 -1  1 -1 -1 -1  1 -1 -1 -1 -1]\n",
            "prediction is: [ 1  1  1  1  1  1  1  1  1  1 -1  1  1 -1 -1 -1 -1  1 -1 -1]\n",
            "The Acuraccy is: 0.85\n"
          ]
        }
      ]
    },
    {
      "cell_type": "markdown",
      "metadata": {
        "id": "HwYRea_VVXoF"
      },
      "source": [
        "## way one for X2:"
      ]
    },
    {
      "cell_type": "code",
      "metadata": {
        "id": "4mjvCQI6VXoF",
        "outputId": "7d69db12-5799-4767-a36c-21766894808f"
      },
      "source": [
        "clf = LinearSVC(max_iter = 100000).fit(X2, t)\n",
        "\n",
        "X2_predict_SVM = clf.predict(X2)\n",
        "\n",
        "print(\"t is:         \", t.values)\n",
        "print(\"prediction is:\", X2_predict_SVM)\n",
        "print(\"The Acuraccy is:\", clf.score(X2, t))"
      ],
      "execution_count": null,
      "outputs": [
        {
          "name": "stdout",
          "output_type": "stream",
          "text": [
            "t is:          [ 1  1  1  1  1  1  1  1  1  1 -1  1 -1 -1 -1  1 -1 -1 -1 -1]\n",
            "prediction is: [ 1  1  1  1  1  1  1  1  1  1 -1  1  1 -1 -1 -1  1 -1 -1 -1]\n",
            "The Acuraccy is: 0.85\n"
          ]
        }
      ]
    },
    {
      "cell_type": "markdown",
      "metadata": {
        "id": "F9DSJSbGVXoF"
      },
      "source": [
        "# Question 5\n",
        "### X2 and SVM"
      ]
    },
    {
      "cell_type": "code",
      "metadata": {
        "id": "fbvT-xDYVXoF",
        "outputId": "825f5227-349c-4086-d7a6-da86e77c4690"
      },
      "source": [
        "target_names = ['not pass(-1)', 'pass(1)']\n",
        "print(classification_report(t, X2_predict_SVM, target_names=target_names))\n",
        "print(confusion_matrix(t, X2_predict_SVM))"
      ],
      "execution_count": null,
      "outputs": [
        {
          "name": "stdout",
          "output_type": "stream",
          "text": [
            "              precision    recall  f1-score   support\n",
            "\n",
            "not pass(-1)       0.86      0.75      0.80         8\n",
            "     pass(1)       0.85      0.92      0.88        12\n",
            "\n",
            "    accuracy                           0.85        20\n",
            "   macro avg       0.85      0.83      0.84        20\n",
            "weighted avg       0.85      0.85      0.85        20\n",
            "\n",
            "[[ 6  2]\n",
            " [ 1 11]]\n"
          ]
        }
      ]
    },
    {
      "cell_type": "markdown",
      "metadata": {
        "id": "R586pYwBVXoG"
      },
      "source": [
        "### X2 and logistic regression"
      ]
    },
    {
      "cell_type": "code",
      "metadata": {
        "id": "jN5a-EP9VXoG",
        "outputId": "e359edc3-a425-4a4d-ecf6-561fe9635c11"
      },
      "source": [
        "target_names = ['not pass(-1)', 'pass(1)']\n",
        "print(classification_report(t, X2_predict_logreg, target_names=target_names))\n",
        "print(confusion_matrix(t, X2_predict_logreg))"
      ],
      "execution_count": null,
      "outputs": [
        {
          "name": "stdout",
          "output_type": "stream",
          "text": [
            "              precision    recall  f1-score   support\n",
            "\n",
            "not pass(-1)       0.75      0.75      0.75         8\n",
            "     pass(1)       0.83      0.83      0.83        12\n",
            "\n",
            "    accuracy                           0.80        20\n",
            "   macro avg       0.79      0.79      0.79        20\n",
            "weighted avg       0.80      0.80      0.80        20\n",
            "\n",
            "[[ 6  2]\n",
            " [ 2 10]]\n"
          ]
        }
      ]
    },
    {
      "cell_type": "markdown",
      "metadata": {
        "id": "nV_Y35c4VXoH"
      },
      "source": [
        "### X and SVM"
      ]
    },
    {
      "cell_type": "code",
      "metadata": {
        "id": "lH3uGDO9VXoH",
        "outputId": "ec665cc5-a132-4a7d-bea9-0e1c3ff56c98"
      },
      "source": [
        "target_names = ['not pass(-1)', 'pass(1)']\n",
        "print(classification_report(t, X_predict_SVM, target_names=target_names))\n",
        "print(confusion_matrix(t, X_predict_SVM))"
      ],
      "execution_count": null,
      "outputs": [
        {
          "name": "stdout",
          "output_type": "stream",
          "text": [
            "              precision    recall  f1-score   support\n",
            "\n",
            "not pass(-1)       0.86      0.75      0.80         8\n",
            "     pass(1)       0.85      0.92      0.88        12\n",
            "\n",
            "    accuracy                           0.85        20\n",
            "   macro avg       0.85      0.83      0.84        20\n",
            "weighted avg       0.85      0.85      0.85        20\n",
            "\n",
            "[[ 6  2]\n",
            " [ 1 11]]\n"
          ]
        }
      ]
    },
    {
      "cell_type": "markdown",
      "metadata": {
        "id": "w6UtRqXXVXoH"
      },
      "source": [
        "### X and logistic regression"
      ]
    },
    {
      "cell_type": "code",
      "metadata": {
        "id": "Ew28-65mVXoH",
        "outputId": "894ae157-1c53-447c-e51a-c8959141fbd8"
      },
      "source": [
        "target_names = ['not pass(-1)', 'pass(1)']\n",
        "print(classification_report(t, X_predict_logreg, target_names=target_names))\n",
        "print(confusion_matrix(t, X_predict_logreg))"
      ],
      "execution_count": null,
      "outputs": [
        {
          "name": "stdout",
          "output_type": "stream",
          "text": [
            "              precision    recall  f1-score   support\n",
            "\n",
            "not pass(-1)       0.88      0.88      0.88         8\n",
            "     pass(1)       0.92      0.92      0.92        12\n",
            "\n",
            "    accuracy                           0.90        20\n",
            "   macro avg       0.90      0.90      0.90        20\n",
            "weighted avg       0.90      0.90      0.90        20\n",
            "\n",
            "[[ 7  1]\n",
            " [ 1 11]]\n"
          ]
        }
      ]
    },
    {
      "cell_type": "markdown",
      "metadata": {
        "id": "dOeXDxfAVXoH"
      },
      "source": [
        "# Question 6\n",
        "### X2 and logistic regression"
      ]
    },
    {
      "cell_type": "code",
      "metadata": {
        "id": "YJYqQoMuVXoI",
        "outputId": "a50ae714-2d47-4cec-f741-50530ae0a736"
      },
      "source": [
        "clf = LogisticRegression(max_iter = 1000).fit(X2, t)\n",
        "\n",
        "x_min, x_max = X2['midterm'].min() - 1, X2['midterm'].max() + 1\n",
        "y_min, y_max = X2['finalterm'].min() - 1, X2['finalterm'].max() + 1\n",
        "h = .02 \n",
        "xx, yy = np.meshgrid(np.arange(x_min, x_max, h), np.arange(y_min, y_max, h))\n",
        "\n",
        "Z = clf.predict(np.c_[xx.ravel(), yy.ravel()])\n",
        "Z = Z.reshape(xx.shape)\n",
        "\n",
        "plt.pcolormesh(xx, yy, Z, cmap='jet')\n",
        "cc = ['aqua' if x==-1 else 'red' for x in t]\n",
        "plt.scatter(X2['midterm'] , X2['finalterm'], c= cc)"
      ],
      "execution_count": null,
      "outputs": [
        {
          "data": {
            "text/plain": [
              "<matplotlib.collections.PathCollection at 0x15d597fdf28>"
            ]
          },
          "execution_count": 14,
          "metadata": {},
          "output_type": "execute_result"
        },
        {
          "data": {
            "image/png": "[encoded data removed]",
            "text/plain": [
              "<Figure size 432x288 with 1 Axes>"
            ]
          },
          "metadata": {
            "needs_background": "light"
          },
          "output_type": "display_data"
        }
      ]
    },
    {
      "cell_type": "markdown",
      "metadata": {
        "id": "JFWLrn_dVXoI"
      },
      "source": [
        "### X2 and SVM"
      ]
    },
    {
      "cell_type": "code",
      "metadata": {
        "id": "LOyPEn5HVXoI",
        "outputId": "65229355-35d6-4b14-af46-08a77cc7251b"
      },
      "source": [
        "clf = LinearSVC(max_iter = 1000000).fit(X2, t)\n",
        "\n",
        "x_min, x_max = X2['midterm'].min() - 1, X2['midterm'].max() + 1\n",
        "y_min, y_max = X2['finalterm'].min() - 1, X2['finalterm'].max() + 1\n",
        "h = .02\n",
        "xx, yy = np.meshgrid(np.arange(x_min, x_max, h), np.arange(y_min, y_max, h))\n",
        "\n",
        "Z = clf.predict(np.c_[xx.ravel(), yy.ravel()])\n",
        "Z = Z.reshape(xx.shape)\n",
        "\n",
        "plt.pcolormesh(xx, yy, Z, cmap='jet')\n",
        "cc = ['aqua' if x==-1 else 'red' for x in t]\n",
        "plt.scatter(X2['midterm'] , X2['finalterm'], c= cc)"
      ],
      "execution_count": null,
      "outputs": [
        {
          "data": {
            "text/plain": [
              "<matplotlib.collections.PathCollection at 0x15d5982cb38>"
            ]
          },
          "execution_count": 15,
          "metadata": {},
          "output_type": "execute_result"
        },
        {
          "data": {
            "image/png": "[encoded data removed]",
            "text/plain": [
              "<Figure size 432x288 with 1 Axes>"
            ]
          },
          "metadata": {
            "needs_background": "light"
          },
          "output_type": "display_data"
        }
      ]
    }
  ]
}