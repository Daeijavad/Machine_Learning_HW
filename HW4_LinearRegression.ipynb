{
  "nbformat": 4,
  "nbformat_minor": 0,
  "metadata": {
    "kernelspec": {
      "display_name": "Python 3",
      "language": "python",
      "name": "python3"
    },
    "language_info": {
      "codemirror_mode": {
        "name": "ipython",
        "version": 3
      },
      "file_extension": ".py",
      "mimetype": "text/x-python",
      "name": "python",
      "nbconvert_exporter": "python",
      "pygments_lexer": "ipython3",
      "version": "3.7.3"
    },
    "colab": {
      "name": "Q123.ipynb",
      "provenance": [],
      "include_colab_link": true
    }
  },
  "cells": [
    {
      "cell_type": "markdown",
      "metadata": {
        "id": "view-in-github",
        "colab_type": "text"
      },
      "source": [
        "<a href=\"https://colab.research.google.com/github/Daeijavad/Machine_Learning_HW/blob/main/HW4_LinearRegression.ipynb\" target=\"_parent\"><img src=\"https://colab.research.google.com/assets/colab-badge.svg\" alt=\"Open In Colab\"/></a>"
      ]
    },
    {
      "cell_type": "markdown",
      "metadata": {
        "id": "XWBbOX11WdZJ"
      },
      "source": [
        "# Q1"
      ]
    },
    {
      "cell_type": "code",
      "metadata": {
        "id": "-ifo6aJ2WdZM"
      },
      "source": [
        "import pandas as pd\n",
        "import numpy as np"
      ],
      "execution_count": null,
      "outputs": []
    },
    {
      "cell_type": "code",
      "metadata": {
        "id": "WfQ7JbkaWdZO"
      },
      "source": [
        "X = pd.read_csv(\"tak4data.csv\", index_col = \"order\")\n",
        "t = X[\"mark\"]\n",
        "X = X.drop([\"mark\"], axis=1)"
      ],
      "execution_count": null,
      "outputs": []
    },
    {
      "cell_type": "markdown",
      "metadata": {
        "id": "vkIb2BufWdZP"
      },
      "source": [
        "# Q2"
      ]
    },
    {
      "cell_type": "code",
      "metadata": {
        "id": "oYAAN2KJWdZQ",
        "outputId": "1d656226-c33e-4808-a886-2f55fe551977"
      },
      "source": [
        "moore_penrose = np.dot(np.linalg.inv(np.dot(X.values.T,X.values)),X.values.T)\n",
        "Wml = np.dot(moore_penrose,t)\n",
        "Wml"
      ],
      "execution_count": null,
      "outputs": [
        {
          "data": {
            "text/plain": [
              "array([0.3 , 0.3 , 0.05, 0.05, 0.15, 0.15])"
            ]
          },
          "execution_count": 3,
          "metadata": {},
          "output_type": "execute_result"
        }
      ]
    },
    {
      "cell_type": "code",
      "metadata": {
        "id": "E9nT0NKqWdZR",
        "outputId": "09c99103-732d-4c0b-f0be-73ace3a39d95"
      },
      "source": [
        "y = np.dot(X,Wml)\n",
        "y"
      ],
      "execution_count": null,
      "outputs": [
        {
          "data": {
            "text/plain": [
              "array([20.  , 14.8 , 18.35, 12.75, 16.  , 15.8 , 15.75, 15.05, 17.4 ,\n",
              "       12.2 ,  8.6 , 12.45, 10.9 ,  9.8 ,  6.85,  6.5 , 10.25, 10.3 ,\n",
              "       11.4 ,  6.35])"
            ]
          },
          "execution_count": 4,
          "metadata": {},
          "output_type": "execute_result"
        }
      ]
    },
    {
      "cell_type": "code",
      "metadata": {
        "id": "6SS2DIc-WdZR",
        "outputId": "3ca61180-b50d-474e-e294-bf12345e0ed6"
      },
      "source": [
        "data_test = [[8.25,10.5,16.75,14.25,13.5,17.25],\n",
        "             [17,18,6.75,7,12.5,7],\n",
        "             [14.5,12,10,9,20,4],\n",
        "             [13,18,15,15.25,15.25,16],\n",
        "             [18.5,19.75,7,8.5,9.75,16.25]]\n",
        "\n",
        "mark_test = np.dot(data_test,Wml)\n",
        "mark_test"
      ],
      "execution_count": null,
      "outputs": [
        {
          "data": {
            "text/plain": [
              "array([11.7875, 14.1125, 12.5   , 15.5   , 16.15  ])"
            ]
          },
          "execution_count": 5,
          "metadata": {},
          "output_type": "execute_result"
        }
      ]
    },
    {
      "cell_type": "markdown",
      "metadata": {
        "id": "oacbvl-BWdZS"
      },
      "source": [
        "# Q3"
      ]
    },
    {
      "cell_type": "code",
      "metadata": {
        "id": "CzfLcgssWdZS"
      },
      "source": [
        "import sklearn.linear_model"
      ],
      "execution_count": null,
      "outputs": []
    },
    {
      "cell_type": "code",
      "metadata": {
        "id": "_FswItKxWdZT",
        "outputId": "520e6393-f17b-46ea-e5da-e4610109c4c3"
      },
      "source": [
        "regresion = sklearn.linear_model.LinearRegression()\n",
        "regresion.fit(X,t)\n",
        "regresion.coef_"
      ],
      "execution_count": null,
      "outputs": [
        {
          "data": {
            "text/plain": [
              "array([0.3 , 0.3 , 0.05, 0.05, 0.15, 0.15])"
            ]
          },
          "execution_count": 7,
          "metadata": {},
          "output_type": "execute_result"
        }
      ]
    }
  ]
}